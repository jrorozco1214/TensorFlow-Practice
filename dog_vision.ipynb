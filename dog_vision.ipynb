{
 "cells": [
  {
   "cell_type": "markdown",
   "id": "8dd7c6e8",
   "metadata": {},
   "source": [
    "# End-to-end Multi-Class Dog Breed Classification\n",
    "\n",
    "This notebook builds an end-to-end multicalss image classifier using TensorFlow and TensorFlow Hub\n",
    "\n",
    "## 1. Problem\n",
    "Id the breed of a dog given an image of a dog.\n",
    "\n",
    "When Im sitting at the cafe and I take a photo of a dog, I want to know waht breed of dog it is\n",
    "\n",
    "## 2. Data\n",
    "The ddata wer're using is from Kaggle's dog breed identification competition\n",
    "\n",
    "## 3. Evaluation\n",
    "The evaluation is a file with prediction probailitesi for each dog breed of each test image. \n",
    "\n",
    "## 4. Features\n",
    "Some information about the data:\n",
    "* We're dealing with images (unstructured data) so it's probably best we use deep learning/transfer learing\n",
    "* There are 120 breeds of dogs (this means there are 120 different breeds of dog)\n",
    "* There are around 10,000+ images in teh training set (these images have labels)\n",
    "* There are around 10,000+ images in the test set (these images have no labels, because we'll want to predict them)\n"
   ]
  },
  {
   "cell_type": "markdown",
   "id": "44189d29",
   "metadata": {},
   "source": [
    "### Get our workspace ready\n",
    "\n",
    "* Import TensorFlow 2.13\n",
    "* Import TensorFlow Hub\n",
    "* Make sure we're using a GPU"
   ]
  },
  {
   "cell_type": "code",
   "execution_count": null,
   "id": "23967523",
   "metadata": {},
   "outputs": [
    {
     "name": "stdout",
     "output_type": "stream",
     "text": [
      "TF version:  2.20.0\n",
      "TF hub version:  0.16.1\n"
     ]
    }
   ],
   "source": [
    "#Import necessary tools\n",
    "\n",
    "print(\"TF version: \", tf.__version__)"
   ]
  },
  {
   "cell_type": "code",
   "execution_count": 7,
   "id": "83abeda7",
   "metadata": {},
   "outputs": [
    {
     "name": "stdout",
     "output_type": "stream",
     "text": [
      "GPU: nothing is here\n"
     ]
    }
   ],
   "source": [
    "#Chek for GPU availability\n",
    "print(\"GPU:\", \"Yes it is\" if tf.config.list_physical_devices(\"GPU\") else \"nothing is here\")"
   ]
  },
  {
   "cell_type": "code",
   "execution_count": 9,
   "id": "b72f9d7a",
   "metadata": {},
   "outputs": [
    {
     "name": "stdout",
     "output_type": "stream",
     "text": [
      "TensorFlow version: 2.20.0\n",
      "GPU build: False\n",
      "Detected GPUs: []\n"
     ]
    }
   ],
   "source": [
    "print(\"TensorFlow version:\", tf.__version__)\n",
    "print(\"GPU build:\", tf.sysconfig.get_build_info()['is_cuda_build'])\n",
    "print(\"Detected GPUs:\", tf.config.list_physical_devices('GPU'))"
   ]
  }
 ],
 "metadata": {
  "kernelspec": {
   "display_name": "tf_gpu",
   "language": "python",
   "name": "python3"
  },
  "language_info": {
   "codemirror_mode": {
    "name": "ipython",
    "version": 3
   },
   "file_extension": ".py",
   "mimetype": "text/x-python",
   "name": "python",
   "nbconvert_exporter": "python",
   "pygments_lexer": "ipython3",
   "version": "3.10.18"
  }
 },
 "nbformat": 4,
 "nbformat_minor": 5
}
